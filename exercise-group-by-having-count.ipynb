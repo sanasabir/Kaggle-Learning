{
 "cells": [
  {
   "cell_type": "markdown",
   "id": "e29f52c6",
   "metadata": {
    "papermill": {
     "duration": 0.004348,
     "end_time": "2024-06-30T12:39:03.525204",
     "exception": false,
     "start_time": "2024-06-30T12:39:03.520856",
     "status": "completed"
    },
    "tags": []
   },
   "source": [
    "**This notebook is an exercise in the [SQL](https://www.kaggle.com/learn/intro-to-sql) course.  You can reference the tutorial at [this link](https://www.kaggle.com/dansbecker/group-by-having-count).**\n",
    "\n",
    "---\n"
   ]
  },
  {
   "cell_type": "markdown",
   "id": "4cfa13f1",
   "metadata": {
    "papermill": {
     "duration": 0.003555,
     "end_time": "2024-06-30T12:39:03.532814",
     "exception": false,
     "start_time": "2024-06-30T12:39:03.529259",
     "status": "completed"
    },
    "tags": []
   },
   "source": [
    "# Introduction\n",
    "\n",
    "Queries with **GROUP BY** can be powerful. There are many small things that can trip you up (like the order of the clauses), but it will start to feel natural once you've done it a few times. Here, you'll write queries using **GROUP BY** to answer questions from the Hacker News dataset.\n",
    "\n",
    "Before you get started, run the following cell to set everything up:"
   ]
  },
  {
   "cell_type": "code",
   "execution_count": 1,
   "id": "f1afa22a",
   "metadata": {
    "execution": {
     "iopub.execute_input": "2024-06-30T12:39:03.541997Z",
     "iopub.status.busy": "2024-06-30T12:39:03.541627Z",
     "iopub.status.idle": "2024-06-30T12:39:13.963748Z",
     "shell.execute_reply": "2024-06-30T12:39:13.962501Z"
    },
    "papermill": {
     "duration": 10.429713,
     "end_time": "2024-06-30T12:39:13.966306",
     "exception": false,
     "start_time": "2024-06-30T12:39:03.536593",
     "status": "completed"
    },
    "tags": []
   },
   "outputs": [
    {
     "name": "stdout",
     "output_type": "stream",
     "text": [
      "Using Kaggle's public dataset BigQuery integration.\n",
      "Setup Complete\n"
     ]
    }
   ],
   "source": [
    "# Set up feedback system\n",
    "from learntools.core import binder\n",
    "binder.bind(globals())\n",
    "from learntools.sql.ex3 import *\n",
    "print(\"Setup Complete\")"
   ]
  },
  {
   "cell_type": "markdown",
   "id": "0ad6fcfc",
   "metadata": {
    "papermill": {
     "duration": 0.003784,
     "end_time": "2024-06-30T12:39:13.974327",
     "exception": false,
     "start_time": "2024-06-30T12:39:13.970543",
     "status": "completed"
    },
    "tags": []
   },
   "source": [
    "The code cell below fetches the `full` table from the `hacker_news` dataset.  We also preview the first five rows of the table."
   ]
  },
  {
   "cell_type": "code",
   "execution_count": 2,
   "id": "6993325f",
   "metadata": {
    "execution": {
     "iopub.execute_input": "2024-06-30T12:39:13.983993Z",
     "iopub.status.busy": "2024-06-30T12:39:13.983494Z",
     "iopub.status.idle": "2024-06-30T12:39:16.494473Z",
     "shell.execute_reply": "2024-06-30T12:39:16.493419Z"
    },
    "papermill": {
     "duration": 2.5184,
     "end_time": "2024-06-30T12:39:16.496710",
     "exception": false,
     "start_time": "2024-06-30T12:39:13.978310",
     "status": "completed"
    },
    "tags": []
   },
   "outputs": [
    {
     "name": "stdout",
     "output_type": "stream",
     "text": [
      "Using Kaggle's public dataset BigQuery integration.\n"
     ]
    },
    {
     "data": {
      "text/html": [
       "<div>\n",
       "<style scoped>\n",
       "    .dataframe tbody tr th:only-of-type {\n",
       "        vertical-align: middle;\n",
       "    }\n",
       "\n",
       "    .dataframe tbody tr th {\n",
       "        vertical-align: top;\n",
       "    }\n",
       "\n",
       "    .dataframe thead th {\n",
       "        text-align: right;\n",
       "    }\n",
       "</style>\n",
       "<table border=\"1\" class=\"dataframe\">\n",
       "  <thead>\n",
       "    <tr style=\"text-align: right;\">\n",
       "      <th></th>\n",
       "      <th>title</th>\n",
       "      <th>url</th>\n",
       "      <th>text</th>\n",
       "      <th>dead</th>\n",
       "      <th>by</th>\n",
       "      <th>score</th>\n",
       "      <th>time</th>\n",
       "      <th>timestamp</th>\n",
       "      <th>type</th>\n",
       "      <th>id</th>\n",
       "      <th>parent</th>\n",
       "      <th>descendants</th>\n",
       "      <th>ranking</th>\n",
       "      <th>deleted</th>\n",
       "    </tr>\n",
       "  </thead>\n",
       "  <tbody>\n",
       "    <tr>\n",
       "      <th>0</th>\n",
       "      <td>None</td>\n",
       "      <td>None</td>\n",
       "      <td>None</td>\n",
       "      <td>None</td>\n",
       "      <td>None</td>\n",
       "      <td>NaN</td>\n",
       "      <td>1.436875e+09</td>\n",
       "      <td>2015-07-14 12:00:35+00:00</td>\n",
       "      <td>story</td>\n",
       "      <td>9884169</td>\n",
       "      <td>NaN</td>\n",
       "      <td>NaN</td>\n",
       "      <td>NaN</td>\n",
       "      <td>True</td>\n",
       "    </tr>\n",
       "    <tr>\n",
       "      <th>1</th>\n",
       "      <td>None</td>\n",
       "      <td>None</td>\n",
       "      <td>None</td>\n",
       "      <td>None</td>\n",
       "      <td>None</td>\n",
       "      <td>NaN</td>\n",
       "      <td>NaN</td>\n",
       "      <td>NaT</td>\n",
       "      <td>story</td>\n",
       "      <td>98842</td>\n",
       "      <td>NaN</td>\n",
       "      <td>NaN</td>\n",
       "      <td>NaN</td>\n",
       "      <td>None</td>\n",
       "    </tr>\n",
       "    <tr>\n",
       "      <th>2</th>\n",
       "      <td>None</td>\n",
       "      <td>None</td>\n",
       "      <td>None</td>\n",
       "      <td>None</td>\n",
       "      <td>None</td>\n",
       "      <td>NaN</td>\n",
       "      <td>1.436876e+09</td>\n",
       "      <td>2015-07-14 12:13:46+00:00</td>\n",
       "      <td>story</td>\n",
       "      <td>9884229</td>\n",
       "      <td>NaN</td>\n",
       "      <td>NaN</td>\n",
       "      <td>NaN</td>\n",
       "      <td>True</td>\n",
       "    </tr>\n",
       "    <tr>\n",
       "      <th>3</th>\n",
       "      <td>None</td>\n",
       "      <td>None</td>\n",
       "      <td>None</td>\n",
       "      <td>None</td>\n",
       "      <td>None</td>\n",
       "      <td>NaN</td>\n",
       "      <td>NaN</td>\n",
       "      <td>NaT</td>\n",
       "      <td>story</td>\n",
       "      <td>988438</td>\n",
       "      <td>NaN</td>\n",
       "      <td>NaN</td>\n",
       "      <td>NaN</td>\n",
       "      <td>None</td>\n",
       "    </tr>\n",
       "    <tr>\n",
       "      <th>4</th>\n",
       "      <td>None</td>\n",
       "      <td>None</td>\n",
       "      <td>None</td>\n",
       "      <td>None</td>\n",
       "      <td>None</td>\n",
       "      <td>NaN</td>\n",
       "      <td>1.260477e+09</td>\n",
       "      <td>2009-12-10 20:35:31+00:00</td>\n",
       "      <td>story</td>\n",
       "      <td>988462</td>\n",
       "      <td>NaN</td>\n",
       "      <td>NaN</td>\n",
       "      <td>NaN</td>\n",
       "      <td>True</td>\n",
       "    </tr>\n",
       "  </tbody>\n",
       "</table>\n",
       "</div>"
      ],
      "text/plain": [
       "  title   url  text  dead    by  score          time  \\\n",
       "0  None  None  None  None  None    NaN  1.436875e+09   \n",
       "1  None  None  None  None  None    NaN           NaN   \n",
       "2  None  None  None  None  None    NaN  1.436876e+09   \n",
       "3  None  None  None  None  None    NaN           NaN   \n",
       "4  None  None  None  None  None    NaN  1.260477e+09   \n",
       "\n",
       "                  timestamp   type       id  parent  descendants  ranking  \\\n",
       "0 2015-07-14 12:00:35+00:00  story  9884169     NaN          NaN      NaN   \n",
       "1                       NaT  story    98842     NaN          NaN      NaN   \n",
       "2 2015-07-14 12:13:46+00:00  story  9884229     NaN          NaN      NaN   \n",
       "3                       NaT  story   988438     NaN          NaN      NaN   \n",
       "4 2009-12-10 20:35:31+00:00  story   988462     NaN          NaN      NaN   \n",
       "\n",
       "  deleted  \n",
       "0    True  \n",
       "1    None  \n",
       "2    True  \n",
       "3    None  \n",
       "4    True  "
      ]
     },
     "execution_count": 2,
     "metadata": {},
     "output_type": "execute_result"
    }
   ],
   "source": [
    "from google.cloud import bigquery\n",
    "\n",
    "# Create a \"Client\" object\n",
    "client = bigquery.Client()\n",
    "\n",
    "# Construct a reference to the \"hacker_news\" dataset\n",
    "dataset_ref = client.dataset(\"hacker_news\", project=\"bigquery-public-data\")\n",
    "\n",
    "# API request - fetch the dataset\n",
    "dataset = client.get_dataset(dataset_ref)\n",
    "\n",
    "# Construct a reference to the \"full\" table\n",
    "table_ref = dataset_ref.table(\"full\")\n",
    "\n",
    "# API request - fetch the table\n",
    "table = client.get_table(table_ref)\n",
    "\n",
    "# Preview the first five lines of the table\n",
    "client.list_rows(table, max_results=5).to_dataframe()"
   ]
  },
  {
   "cell_type": "markdown",
   "id": "d3e9cb7f",
   "metadata": {
    "papermill": {
     "duration": 0.004236,
     "end_time": "2024-06-30T12:39:16.505630",
     "exception": false,
     "start_time": "2024-06-30T12:39:16.501394",
     "status": "completed"
    },
    "tags": []
   },
   "source": [
    "# Exercises\n",
    "\n",
    "### 1) Prolific commenters\n",
    "\n",
    "Hacker News would like to send awards to everyone who has written more than 10,000 posts. Write a query that returns all authors with more than 10,000 posts as well as their post counts. Call the column with post counts `NumPosts`.\n",
    "\n",
    "In case sample query is helpful, here is a query you saw in the tutorial to answer a similar question:\n",
    "```\n",
    "query = \"\"\"\n",
    "        SELECT parent, COUNT(1) AS NumPosts\n",
    "        FROM `bigquery-public-data.hacker_news.full`\n",
    "        GROUP BY parent\n",
    "        HAVING COUNT(1) > 10\n",
    "        \"\"\"\n",
    "```"
   ]
  },
  {
   "cell_type": "code",
   "execution_count": 3,
   "id": "36fc7134",
   "metadata": {
    "execution": {
     "iopub.execute_input": "2024-06-30T12:39:16.516437Z",
     "iopub.status.busy": "2024-06-30T12:39:16.515700Z",
     "iopub.status.idle": "2024-06-30T12:39:19.218017Z",
     "shell.execute_reply": "2024-06-30T12:39:19.216790Z"
    },
    "papermill": {
     "duration": 2.710377,
     "end_time": "2024-06-30T12:39:19.220485",
     "exception": false,
     "start_time": "2024-06-30T12:39:16.510108",
     "status": "completed"
    },
    "tags": []
   },
   "outputs": [
    {
     "name": "stdout",
     "output_type": "stream",
     "text": [
      "      author  NumPosts\n",
      "0        eru     22895\n",
      "1    rbanffy     52019\n",
      "2  anigbrowl     26739\n",
      "3        tzs     14368\n",
      "4   ChuckMcM     18015\n"
     ]
    },
    {
     "data": {
      "application/javascript": [
       "parent.postMessage({\"jupyterEvent\": \"custom.exercise_interaction\", \"data\": {\"outcomeType\": 1, \"valueTowardsCompletion\": 0.5, \"interactionType\": 1, \"questionType\": 2, \"questionId\": \"1_ProlificCommenters\", \"learnToolsVersion\": \"0.3.4\", \"failureMessage\": \"\", \"exceptionClass\": \"\", \"trace\": \"\"}}, \"*\")"
      ],
      "text/plain": [
       "<IPython.core.display.Javascript object>"
      ]
     },
     "metadata": {},
     "output_type": "display_data"
    },
    {
     "data": {
      "text/markdown": [
       "<span style=\"color:#33cc33\">Correct</span>"
      ],
      "text/plain": [
       "Correct"
      ]
     },
     "metadata": {},
     "output_type": "display_data"
    }
   ],
   "source": [
    "# Query to select prolific commenters and post counts\n",
    "prolific_commenters_query = \"\"\"\n",
    "                                SELECT `by` as author, COUNT(id) as NumPosts\n",
    "                                FROM `bigquery-public-data.hacker_news.full`\n",
    "                                GROUP BY author\n",
    "                                HAVING NumPosts > 10000\n",
    "\n",
    "\"\"\" # Your code goes here\n",
    "\n",
    "# Set up the query (cancel the query if it would use too much of \n",
    "# your quota, with the limit set to 1 GB)\n",
    "safe_config = bigquery.QueryJobConfig(maximum_bytes_billed=10**10)\n",
    "query_job = client.query(prolific_commenters_query, job_config=safe_config)\n",
    "\n",
    "# API request - run the query, and return a pandas DataFrame\n",
    "prolific_commenters = query_job.to_dataframe()\n",
    "\n",
    "# View top few rows of results\n",
    "print(prolific_commenters.head())\n",
    "\n",
    "# Check your answer\n",
    "q_1.check()"
   ]
  },
  {
   "cell_type": "markdown",
   "id": "7eb82f97",
   "metadata": {
    "papermill": {
     "duration": 0.00464,
     "end_time": "2024-06-30T12:39:19.230201",
     "exception": false,
     "start_time": "2024-06-30T12:39:19.225561",
     "status": "completed"
    },
    "tags": []
   },
   "source": [
    "For the solution, uncomment the line below."
   ]
  },
  {
   "cell_type": "code",
   "execution_count": 4,
   "id": "139d6466",
   "metadata": {
    "execution": {
     "iopub.execute_input": "2024-06-30T12:39:19.241733Z",
     "iopub.status.busy": "2024-06-30T12:39:19.241382Z",
     "iopub.status.idle": "2024-06-30T12:39:19.246155Z",
     "shell.execute_reply": "2024-06-30T12:39:19.244965Z"
    },
    "papermill": {
     "duration": 0.013019,
     "end_time": "2024-06-30T12:39:19.248277",
     "exception": false,
     "start_time": "2024-06-30T12:39:19.235258",
     "status": "completed"
    },
    "tags": []
   },
   "outputs": [],
   "source": [
    "#q_1.solution()"
   ]
  },
  {
   "cell_type": "markdown",
   "id": "90b27844",
   "metadata": {
    "papermill": {
     "duration": 0.004508,
     "end_time": "2024-06-30T12:39:19.257735",
     "exception": false,
     "start_time": "2024-06-30T12:39:19.253227",
     "status": "completed"
    },
    "tags": []
   },
   "source": [
    "### 2) Deleted comments\n",
    "\n",
    "How many comments have been deleted? (If a comment was deleted, the `deleted` column in the table will have the value `True`.)"
   ]
  },
  {
   "cell_type": "code",
   "execution_count": 5,
   "id": "b612381e",
   "metadata": {
    "execution": {
     "iopub.execute_input": "2024-06-30T12:39:19.268813Z",
     "iopub.status.busy": "2024-06-30T12:39:19.268441Z",
     "iopub.status.idle": "2024-06-30T12:39:20.929386Z",
     "shell.execute_reply": "2024-06-30T12:39:20.928186Z"
    },
    "papermill": {
     "duration": 1.669231,
     "end_time": "2024-06-30T12:39:20.931689",
     "exception": false,
     "start_time": "2024-06-30T12:39:19.262458",
     "status": "completed"
    },
    "tags": []
   },
   "outputs": [
    {
     "name": "stdout",
     "output_type": "stream",
     "text": [
      "   DeletedPosts\n",
      "0       1184450\n"
     ]
    }
   ],
   "source": [
    "num_deleted_posts_query = \"\"\"\n",
    "                                SELECT COUNT(deleted) as DeletedPosts\n",
    "                                FROM `bigquery-public-data.hacker_news.full`\n",
    "                                WHERE deleted = True\n",
    "                                \n",
    "                                \n",
    "                                \n",
    "\n",
    "\"\"\" # Your code goes here\n",
    "\n",
    "# Set up the query (cancel the query if it would use too much of \n",
    "# your quota, with the limit set to 1 GB)\n",
    "safe_config = bigquery.QueryJobConfig(maximum_bytes_billed=10**10)\n",
    "query_job = client.query(num_deleted_posts_query, job_config=safe_config)\n",
    "\n",
    "# API request - run the query, and return a pandas DataFrame\n",
    "num_deleted_posts = query_job.to_dataframe()\n",
    "\n",
    "# View top few rows of results\n",
    "print(num_deleted_posts)\n",
    "\n"
   ]
  },
  {
   "cell_type": "code",
   "execution_count": 6,
   "id": "1551ccec",
   "metadata": {
    "execution": {
     "iopub.execute_input": "2024-06-30T12:39:20.943197Z",
     "iopub.status.busy": "2024-06-30T12:39:20.942791Z",
     "iopub.status.idle": "2024-06-30T12:39:20.951243Z",
     "shell.execute_reply": "2024-06-30T12:39:20.950255Z"
    },
    "papermill": {
     "duration": 0.016667,
     "end_time": "2024-06-30T12:39:20.953348",
     "exception": false,
     "start_time": "2024-06-30T12:39:20.936681",
     "status": "completed"
    },
    "tags": []
   },
   "outputs": [
    {
     "data": {
      "application/javascript": [
       "parent.postMessage({\"jupyterEvent\": \"custom.exercise_interaction\", \"data\": {\"outcomeType\": 1, \"valueTowardsCompletion\": 0.5, \"interactionType\": 1, \"questionType\": 1, \"questionId\": \"2_NumDeletedPosts\", \"learnToolsVersion\": \"0.3.4\", \"failureMessage\": \"\", \"exceptionClass\": \"\", \"trace\": \"\"}}, \"*\")"
      ],
      "text/plain": [
       "<IPython.core.display.Javascript object>"
      ]
     },
     "metadata": {},
     "output_type": "display_data"
    },
    {
     "data": {
      "text/markdown": [
       "<span style=\"color:#33cc33\">Correct</span>"
      ],
      "text/plain": [
       "Correct"
      ]
     },
     "metadata": {},
     "output_type": "display_data"
    }
   ],
   "source": [
    "num_deleted_posts = 1184450 # Put your answer here\n",
    "\n",
    "# Check your answer\n",
    "q_2.check()"
   ]
  },
  {
   "cell_type": "markdown",
   "id": "27a0163c",
   "metadata": {
    "papermill": {
     "duration": 0.004852,
     "end_time": "2024-06-30T12:39:20.963222",
     "exception": false,
     "start_time": "2024-06-30T12:39:20.958370",
     "status": "completed"
    },
    "tags": []
   },
   "source": [
    "For the solution, uncomment the line below."
   ]
  },
  {
   "cell_type": "code",
   "execution_count": 7,
   "id": "8b5a5372",
   "metadata": {
    "execution": {
     "iopub.execute_input": "2024-06-30T12:39:20.974978Z",
     "iopub.status.busy": "2024-06-30T12:39:20.974640Z",
     "iopub.status.idle": "2024-06-30T12:39:20.978966Z",
     "shell.execute_reply": "2024-06-30T12:39:20.977886Z"
    },
    "papermill": {
     "duration": 0.012812,
     "end_time": "2024-06-30T12:39:20.981199",
     "exception": false,
     "start_time": "2024-06-30T12:39:20.968387",
     "status": "completed"
    },
    "tags": []
   },
   "outputs": [],
   "source": [
    "# q_2.solution()"
   ]
  },
  {
   "cell_type": "markdown",
   "id": "05257ef3",
   "metadata": {
    "papermill": {
     "duration": 0.004863,
     "end_time": "2024-06-30T12:39:20.991176",
     "exception": false,
     "start_time": "2024-06-30T12:39:20.986313",
     "status": "completed"
    },
    "tags": []
   },
   "source": [
    "# Keep Going\n",
    "**[Click here](https://www.kaggle.com/dansbecker/order-by)** to move on and learn about the **ORDER BY** clause."
   ]
  },
  {
   "cell_type": "markdown",
   "id": "564d8bef",
   "metadata": {
    "papermill": {
     "duration": 0.004703,
     "end_time": "2024-06-30T12:39:21.000887",
     "exception": false,
     "start_time": "2024-06-30T12:39:20.996184",
     "status": "completed"
    },
    "tags": []
   },
   "source": [
    "---\n",
    "\n",
    "\n",
    "\n",
    "\n",
    "*Have questions or comments? Visit the [course discussion forum](https://www.kaggle.com/learn/intro-to-sql/discussion) to chat with other learners.*"
   ]
  }
 ],
 "metadata": {
  "kaggle": {
   "accelerator": "none",
   "dataSources": [
    {
     "datasetId": 6057,
     "sourceId": 285982,
     "sourceType": "datasetVersion"
    }
   ],
   "isGpuEnabled": false,
   "isInternetEnabled": false,
   "language": "python",
   "sourceType": "notebook"
  },
  "kernelspec": {
   "display_name": "Python 3",
   "language": "python",
   "name": "python3"
  },
  "language_info": {
   "codemirror_mode": {
    "name": "ipython",
    "version": 3
   },
   "file_extension": ".py",
   "mimetype": "text/x-python",
   "name": "python",
   "nbconvert_exporter": "python",
   "pygments_lexer": "ipython3",
   "version": "3.10.13"
  },
  "papermill": {
   "default_parameters": {},
   "duration": 20.968708,
   "end_time": "2024-06-30T12:39:21.727651",
   "environment_variables": {},
   "exception": null,
   "input_path": "__notebook__.ipynb",
   "output_path": "__notebook__.ipynb",
   "parameters": {},
   "start_time": "2024-06-30T12:39:00.758943",
   "version": "2.5.0"
  }
 },
 "nbformat": 4,
 "nbformat_minor": 5
}
