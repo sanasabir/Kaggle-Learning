{
 "cells": [
  {
   "cell_type": "markdown",
   "id": "2f3cb412",
   "metadata": {
    "papermill": {
     "duration": 0.009549,
     "end_time": "2024-06-30T17:34:53.764744",
     "exception": false,
     "start_time": "2024-06-30T17:34:53.755195",
     "status": "completed"
    },
    "tags": []
   },
   "source": [
    "**This notebook is an exercise in the [SQL](https://www.kaggle.com/learn/intro-to-sql) course.  You can reference the tutorial at [this link](https://www.kaggle.com/dansbecker/as-with).**\n",
    "\n",
    "---\n"
   ]
  },
  {
   "cell_type": "markdown",
   "id": "8ba569e4",
   "metadata": {
    "papermill": {
     "duration": 0.00941,
     "end_time": "2024-06-30T17:34:53.783217",
     "exception": false,
     "start_time": "2024-06-30T17:34:53.773807",
     "status": "completed"
    },
    "tags": []
   },
   "source": [
    "# Introduction\n",
    "\n",
    "You are getting to the point where you can own an analysis from beginning to end. So you'll do more data exploration in this exercise than you've done before.  Before you get started, run the following set-up code as usual. "
   ]
  },
  {
   "cell_type": "code",
   "execution_count": 1,
   "id": "c5220599",
   "metadata": {
    "execution": {
     "iopub.execute_input": "2024-06-30T17:34:53.804374Z",
     "iopub.status.busy": "2024-06-30T17:34:53.803191Z",
     "iopub.status.idle": "2024-06-30T17:35:32.100105Z",
     "shell.execute_reply": "2024-06-30T17:35:32.098447Z"
    },
    "papermill": {
     "duration": 38.310639,
     "end_time": "2024-06-30T17:35:32.103003",
     "exception": false,
     "start_time": "2024-06-30T17:34:53.792364",
     "status": "completed"
    },
    "tags": []
   },
   "outputs": [
    {
     "name": "stdout",
     "output_type": "stream",
     "text": [
      "Collecting git+https://github.com/Kaggle/learntools.git\r\n",
      "  Cloning https://github.com/Kaggle/learntools.git to /tmp/pip-req-build-wix4ka0u\r\n",
      "  Running command git clone --filter=blob:none --quiet https://github.com/Kaggle/learntools.git /tmp/pip-req-build-wix4ka0u\r\n",
      "  Resolved https://github.com/Kaggle/learntools.git to commit ca2a51ee0085e4943cadaf5e9fe7dce2ec947d3c\r\n",
      "  Preparing metadata (setup.py) ... \u001b[?25ldone\r\n",
      "\u001b[?25hBuilding wheels for collected packages: learntools\r\n",
      "  Building wheel for learntools (setup.py) ... \u001b[?25l-\b \bdone\r\n",
      "\u001b[?25h  Created wheel for learntools: filename=learntools-0.3.4-py3-none-any.whl size=268968 sha256=ea28624d8cb58d3f164e2298517fc6a077c6dea9fe3f24fe382f7a87b1ce15a9\r\n",
      "  Stored in directory: /tmp/pip-ephem-wheel-cache-s6p1y8w5/wheels/2f/6c/3c/aa9f50cfb5a862157cb4c7a5b34881828cf45404698255dced\r\n",
      "Successfully built learntools\r\n",
      "Installing collected packages: learntools\r\n",
      "Successfully installed learntools-0.3.4\r\n",
      "Using Kaggle's public dataset BigQuery integration.\n",
      "Setup Complete\n"
     ]
    }
   ],
   "source": [
    "# Get most recent checking code\n",
    "!pip install -U -t /kaggle/working/ git+https://github.com/Kaggle/learntools.git\n",
    "# Set up feedback system\n",
    "from learntools.core import binder\n",
    "binder.bind(globals())\n",
    "from learntools.sql.ex5 import *\n",
    "print(\"Setup Complete\")"
   ]
  },
  {
   "cell_type": "markdown",
   "id": "486339c8",
   "metadata": {
    "papermill": {
     "duration": 0.009262,
     "end_time": "2024-06-30T17:35:32.122064",
     "exception": false,
     "start_time": "2024-06-30T17:35:32.112802",
     "status": "completed"
    },
    "tags": []
   },
   "source": [
    "You'll work with a dataset about taxi trips in the city of Chicago. Run the cell below to fetch the `chicago_taxi_trips` dataset."
   ]
  },
  {
   "cell_type": "code",
   "execution_count": 2,
   "id": "bdbfa787",
   "metadata": {
    "execution": {
     "iopub.execute_input": "2024-06-30T17:35:32.144653Z",
     "iopub.status.busy": "2024-06-30T17:35:32.143602Z",
     "iopub.status.idle": "2024-06-30T17:35:32.592114Z",
     "shell.execute_reply": "2024-06-30T17:35:32.590836Z"
    },
    "papermill": {
     "duration": 0.46372,
     "end_time": "2024-06-30T17:35:32.595451",
     "exception": false,
     "start_time": "2024-06-30T17:35:32.131731",
     "status": "completed"
    },
    "tags": []
   },
   "outputs": [
    {
     "name": "stdout",
     "output_type": "stream",
     "text": [
      "Using Kaggle's public dataset BigQuery integration.\n"
     ]
    }
   ],
   "source": [
    "from google.cloud import bigquery\n",
    "\n",
    "# Create a \"Client\" object\n",
    "client = bigquery.Client()\n",
    "\n",
    "# Construct a reference to the \"chicago_taxi_trips\" dataset\n",
    "dataset_ref = client.dataset(\"chicago_taxi_trips\", project=\"bigquery-public-data\")\n",
    "\n",
    "# API request - fetch the dataset\n",
    "dataset = client.get_dataset(dataset_ref)"
   ]
  },
  {
   "cell_type": "markdown",
   "id": "28dbbce8",
   "metadata": {
    "papermill": {
     "duration": 0.009312,
     "end_time": "2024-06-30T17:35:32.614656",
     "exception": false,
     "start_time": "2024-06-30T17:35:32.605344",
     "status": "completed"
    },
    "tags": []
   },
   "source": [
    "# Exercises\n",
    "\n",
    "You are curious how much slower traffic moves when traffic volume is high. This involves a few steps.\n",
    "\n",
    "### 1) Find the data\n",
    "Before you can access the data, you need to find the table name with the data.\n",
    "\n",
    "*Hint*: Tab completion is helpful whenever you can't remember a command. Type `client.` and then hit the tab key. Don't forget the period before hitting tab."
   ]
  },
  {
   "cell_type": "code",
   "execution_count": 3,
   "id": "9516c263",
   "metadata": {
    "execution": {
     "iopub.execute_input": "2024-06-30T17:35:32.636156Z",
     "iopub.status.busy": "2024-06-30T17:35:32.635663Z",
     "iopub.status.idle": "2024-06-30T17:35:33.159849Z",
     "shell.execute_reply": "2024-06-30T17:35:33.158080Z"
    },
    "papermill": {
     "duration": 0.538435,
     "end_time": "2024-06-30T17:35:33.162809",
     "exception": false,
     "start_time": "2024-06-30T17:35:32.624374",
     "status": "completed"
    },
    "tags": []
   },
   "outputs": [
    {
     "name": "stdout",
     "output_type": "stream",
     "text": [
      "taxi_trips\n"
     ]
    }
   ],
   "source": [
    "# Your code here to find the table name\n",
    "# List all the tables in the dataset\n",
    "tables = list(client.list_tables(dataset))\n",
    "\n",
    "# Print names of all tables in the dataset (there is only one!)\n",
    "for table in tables:  \n",
    "    print(table.table_id)\n",
    "\n"
   ]
  },
  {
   "cell_type": "code",
   "execution_count": 4,
   "id": "489a57c1",
   "metadata": {
    "execution": {
     "iopub.execute_input": "2024-06-30T17:35:33.185979Z",
     "iopub.status.busy": "2024-06-30T17:35:33.185487Z",
     "iopub.status.idle": "2024-06-30T17:35:33.198448Z",
     "shell.execute_reply": "2024-06-30T17:35:33.197069Z"
    },
    "papermill": {
     "duration": 0.028479,
     "end_time": "2024-06-30T17:35:33.201561",
     "exception": false,
     "start_time": "2024-06-30T17:35:33.173082",
     "status": "completed"
    },
    "tags": []
   },
   "outputs": [
    {
     "data": {
      "application/javascript": [
       "parent.postMessage({\"jupyterEvent\": \"custom.exercise_interaction\", \"data\": {\"outcomeType\": 1, \"valueTowardsCompletion\": 0.16666666666666666, \"interactionType\": 1, \"questionType\": 1, \"questionId\": \"1_GetTableName\", \"learnToolsVersion\": \"0.3.4\", \"failureMessage\": \"\", \"exceptionClass\": \"\", \"trace\": \"\"}}, \"*\")"
      ],
      "text/plain": [
       "<IPython.core.display.Javascript object>"
      ]
     },
     "metadata": {},
     "output_type": "display_data"
    },
    {
     "data": {
      "text/markdown": [
       "<span style=\"color:#33cc33\">Correct</span>"
      ],
      "text/plain": [
       "Correct"
      ]
     },
     "metadata": {},
     "output_type": "display_data"
    }
   ],
   "source": [
    "# Write the table name as a string below\n",
    "table_name = \"taxi_trips\"\n",
    "\n",
    "# Check your answer\n",
    "q_1.check()"
   ]
  },
  {
   "cell_type": "markdown",
   "id": "3c5c081d",
   "metadata": {
    "papermill": {
     "duration": 0.010209,
     "end_time": "2024-06-30T17:35:33.222499",
     "exception": false,
     "start_time": "2024-06-30T17:35:33.212290",
     "status": "completed"
    },
    "tags": []
   },
   "source": [
    "For the solution, uncomment the line below."
   ]
  },
  {
   "cell_type": "code",
   "execution_count": 5,
   "id": "eca60916",
   "metadata": {
    "execution": {
     "iopub.execute_input": "2024-06-30T17:35:33.246324Z",
     "iopub.status.busy": "2024-06-30T17:35:33.245832Z",
     "iopub.status.idle": "2024-06-30T17:35:33.251534Z",
     "shell.execute_reply": "2024-06-30T17:35:33.250256Z"
    },
    "papermill": {
     "duration": 0.021455,
     "end_time": "2024-06-30T17:35:33.254391",
     "exception": false,
     "start_time": "2024-06-30T17:35:33.232936",
     "status": "completed"
    },
    "tags": []
   },
   "outputs": [],
   "source": [
    "# q_1.solution()"
   ]
  },
  {
   "cell_type": "markdown",
   "id": "79c7e697",
   "metadata": {
    "papermill": {
     "duration": 0.010595,
     "end_time": "2024-06-30T17:35:33.276554",
     "exception": false,
     "start_time": "2024-06-30T17:35:33.265959",
     "status": "completed"
    },
    "tags": []
   },
   "source": [
    "### 2) Peek at the data\n",
    "\n",
    "Use the next code cell to peek at the top few rows of the data. Inspect the data and see if any issues with data quality are immediately obvious. "
   ]
  },
  {
   "cell_type": "code",
   "execution_count": 6,
   "id": "eb1038ff",
   "metadata": {
    "execution": {
     "iopub.execute_input": "2024-06-30T17:35:33.299815Z",
     "iopub.status.busy": "2024-06-30T17:35:33.299384Z",
     "iopub.status.idle": "2024-06-30T17:35:34.396844Z",
     "shell.execute_reply": "2024-06-30T17:35:34.395374Z"
    },
    "papermill": {
     "duration": 1.112253,
     "end_time": "2024-06-30T17:35:34.399534",
     "exception": false,
     "start_time": "2024-06-30T17:35:33.287281",
     "status": "completed"
    },
    "tags": []
   },
   "outputs": [
    {
     "data": {
      "text/html": [
       "<div>\n",
       "<style scoped>\n",
       "    .dataframe tbody tr th:only-of-type {\n",
       "        vertical-align: middle;\n",
       "    }\n",
       "\n",
       "    .dataframe tbody tr th {\n",
       "        vertical-align: top;\n",
       "    }\n",
       "\n",
       "    .dataframe thead th {\n",
       "        text-align: right;\n",
       "    }\n",
       "</style>\n",
       "<table border=\"1\" class=\"dataframe\">\n",
       "  <thead>\n",
       "    <tr style=\"text-align: right;\">\n",
       "      <th></th>\n",
       "      <th>unique_key</th>\n",
       "      <th>taxi_id</th>\n",
       "      <th>trip_start_timestamp</th>\n",
       "      <th>trip_end_timestamp</th>\n",
       "      <th>trip_seconds</th>\n",
       "      <th>trip_miles</th>\n",
       "      <th>pickup_census_tract</th>\n",
       "      <th>dropoff_census_tract</th>\n",
       "      <th>pickup_community_area</th>\n",
       "      <th>dropoff_community_area</th>\n",
       "      <th>...</th>\n",
       "      <th>extras</th>\n",
       "      <th>trip_total</th>\n",
       "      <th>payment_type</th>\n",
       "      <th>company</th>\n",
       "      <th>pickup_latitude</th>\n",
       "      <th>pickup_longitude</th>\n",
       "      <th>pickup_location</th>\n",
       "      <th>dropoff_latitude</th>\n",
       "      <th>dropoff_longitude</th>\n",
       "      <th>dropoff_location</th>\n",
       "    </tr>\n",
       "  </thead>\n",
       "  <tbody>\n",
       "    <tr>\n",
       "      <th>0</th>\n",
       "      <td>ca2943325bb86524ccb494a82c4361e2e59d94b9</td>\n",
       "      <td>4ab868a2a19b95f50f355eb8d0d7638f1912b37f49ebd6...</td>\n",
       "      <td>2013-04-14 14:45:00+00:00</td>\n",
       "      <td>2013-04-14 15:00:00+00:00</td>\n",
       "      <td>660</td>\n",
       "      <td>0.0</td>\n",
       "      <td>NaN</td>\n",
       "      <td>NaN</td>\n",
       "      <td>14</td>\n",
       "      <td>14</td>\n",
       "      <td>...</td>\n",
       "      <td>0.0</td>\n",
       "      <td>6.85</td>\n",
       "      <td>Cash</td>\n",
       "      <td>Blue Ribbon Taxi Association Inc.</td>\n",
       "      <td>41.968069</td>\n",
       "      <td>-87.721559</td>\n",
       "      <td>POINT (-87.7215590627 41.968069)</td>\n",
       "      <td>41.968069</td>\n",
       "      <td>-87.721559</td>\n",
       "      <td>POINT (-87.7215590627 41.968069)</td>\n",
       "    </tr>\n",
       "    <tr>\n",
       "      <th>1</th>\n",
       "      <td>65772aeff3599d099f040068b9b7cd4491aea5b6</td>\n",
       "      <td>6682944f2b37609761181033253037c05fed4377e8b649...</td>\n",
       "      <td>2013-05-12 20:15:00+00:00</td>\n",
       "      <td>2013-05-12 20:30:00+00:00</td>\n",
       "      <td>240</td>\n",
       "      <td>0.9</td>\n",
       "      <td>NaN</td>\n",
       "      <td>NaN</td>\n",
       "      <td>41</td>\n",
       "      <td>41</td>\n",
       "      <td>...</td>\n",
       "      <td>1.0</td>\n",
       "      <td>6.05</td>\n",
       "      <td>Cash</td>\n",
       "      <td>Northwest Management LLC</td>\n",
       "      <td>41.794090</td>\n",
       "      <td>-87.592311</td>\n",
       "      <td>POINT (-87.592310855 41.794090253)</td>\n",
       "      <td>41.794090</td>\n",
       "      <td>-87.592311</td>\n",
       "      <td>POINT (-87.592310855 41.794090253)</td>\n",
       "    </tr>\n",
       "    <tr>\n",
       "      <th>2</th>\n",
       "      <td>be9aee48bd3bc2e919ad76956c94e0bc420366f1</td>\n",
       "      <td>af5b394cb22984f667fc0a9cc30e0277cb9edf50f14747...</td>\n",
       "      <td>2013-04-17 01:45:00+00:00</td>\n",
       "      <td>2013-04-17 02:00:00+00:00</td>\n",
       "      <td>780</td>\n",
       "      <td>0.0</td>\n",
       "      <td>1.703184e+10</td>\n",
       "      <td>1.703124e+10</td>\n",
       "      <td>28</td>\n",
       "      <td>24</td>\n",
       "      <td>...</td>\n",
       "      <td>1.5</td>\n",
       "      <td>12.95</td>\n",
       "      <td>Cash</td>\n",
       "      <td>Dispatch Taxi Affiliation</td>\n",
       "      <td>41.867902</td>\n",
       "      <td>-87.642959</td>\n",
       "      <td>POINT (-87.6429586652 41.8679024175)</td>\n",
       "      <td>41.906026</td>\n",
       "      <td>-87.675312</td>\n",
       "      <td>POINT (-87.6753116216 41.906025969)</td>\n",
       "    </tr>\n",
       "    <tr>\n",
       "      <th>3</th>\n",
       "      <td>e1a250fcf325056fd51fe87e655f2ee15acd4599</td>\n",
       "      <td>4de82fc17cb23f745931085fbbb3b4f920550cda576979...</td>\n",
       "      <td>2013-04-14 14:30:00+00:00</td>\n",
       "      <td>2013-04-14 14:45:00+00:00</td>\n",
       "      <td>360</td>\n",
       "      <td>1.2</td>\n",
       "      <td>1.703107e+10</td>\n",
       "      <td>1.703183e+10</td>\n",
       "      <td>7</td>\n",
       "      <td>6</td>\n",
       "      <td>...</td>\n",
       "      <td>0.0</td>\n",
       "      <td>6.05</td>\n",
       "      <td>Cash</td>\n",
       "      <td>Dispatch Taxi Affiliation</td>\n",
       "      <td>41.930579</td>\n",
       "      <td>-87.642206</td>\n",
       "      <td>POINT (-87.6422063127 41.9305785697)</td>\n",
       "      <td>41.946295</td>\n",
       "      <td>-87.654298</td>\n",
       "      <td>POINT (-87.6542980837 41.9462945357)</td>\n",
       "    </tr>\n",
       "    <tr>\n",
       "      <th>4</th>\n",
       "      <td>40c021586099a8bb48795aebbb601384304eb60e</td>\n",
       "      <td>486a31c847d3de20267c610f8de52bdd13c696a8a22bcb...</td>\n",
       "      <td>2013-04-21 02:15:00+00:00</td>\n",
       "      <td>2013-04-21 02:15:00+00:00</td>\n",
       "      <td>360</td>\n",
       "      <td>0.0</td>\n",
       "      <td>1.703107e+10</td>\n",
       "      <td>1.703107e+10</td>\n",
       "      <td>7</td>\n",
       "      <td>7</td>\n",
       "      <td>...</td>\n",
       "      <td>2.0</td>\n",
       "      <td>7.25</td>\n",
       "      <td>Cash</td>\n",
       "      <td>Dispatch Taxi Affiliation</td>\n",
       "      <td>41.929263</td>\n",
       "      <td>-87.635891</td>\n",
       "      <td>POINT (-87.6358909539 41.9292629902)</td>\n",
       "      <td>41.921855</td>\n",
       "      <td>-87.646211</td>\n",
       "      <td>POINT (-87.6462109769 41.9218549112)</td>\n",
       "    </tr>\n",
       "  </tbody>\n",
       "</table>\n",
       "<p>5 rows × 23 columns</p>\n",
       "</div>"
      ],
      "text/plain": [
       "                                 unique_key  \\\n",
       "0  ca2943325bb86524ccb494a82c4361e2e59d94b9   \n",
       "1  65772aeff3599d099f040068b9b7cd4491aea5b6   \n",
       "2  be9aee48bd3bc2e919ad76956c94e0bc420366f1   \n",
       "3  e1a250fcf325056fd51fe87e655f2ee15acd4599   \n",
       "4  40c021586099a8bb48795aebbb601384304eb60e   \n",
       "\n",
       "                                             taxi_id  \\\n",
       "0  4ab868a2a19b95f50f355eb8d0d7638f1912b37f49ebd6...   \n",
       "1  6682944f2b37609761181033253037c05fed4377e8b649...   \n",
       "2  af5b394cb22984f667fc0a9cc30e0277cb9edf50f14747...   \n",
       "3  4de82fc17cb23f745931085fbbb3b4f920550cda576979...   \n",
       "4  486a31c847d3de20267c610f8de52bdd13c696a8a22bcb...   \n",
       "\n",
       "       trip_start_timestamp        trip_end_timestamp  trip_seconds  \\\n",
       "0 2013-04-14 14:45:00+00:00 2013-04-14 15:00:00+00:00           660   \n",
       "1 2013-05-12 20:15:00+00:00 2013-05-12 20:30:00+00:00           240   \n",
       "2 2013-04-17 01:45:00+00:00 2013-04-17 02:00:00+00:00           780   \n",
       "3 2013-04-14 14:30:00+00:00 2013-04-14 14:45:00+00:00           360   \n",
       "4 2013-04-21 02:15:00+00:00 2013-04-21 02:15:00+00:00           360   \n",
       "\n",
       "   trip_miles  pickup_census_tract  dropoff_census_tract  \\\n",
       "0         0.0                  NaN                   NaN   \n",
       "1         0.9                  NaN                   NaN   \n",
       "2         0.0         1.703184e+10          1.703124e+10   \n",
       "3         1.2         1.703107e+10          1.703183e+10   \n",
       "4         0.0         1.703107e+10          1.703107e+10   \n",
       "\n",
       "   pickup_community_area  dropoff_community_area  ...  extras  trip_total  \\\n",
       "0                     14                      14  ...     0.0        6.85   \n",
       "1                     41                      41  ...     1.0        6.05   \n",
       "2                     28                      24  ...     1.5       12.95   \n",
       "3                      7                       6  ...     0.0        6.05   \n",
       "4                      7                       7  ...     2.0        7.25   \n",
       "\n",
       "   payment_type                            company  pickup_latitude  \\\n",
       "0          Cash  Blue Ribbon Taxi Association Inc.        41.968069   \n",
       "1          Cash           Northwest Management LLC        41.794090   \n",
       "2          Cash          Dispatch Taxi Affiliation        41.867902   \n",
       "3          Cash          Dispatch Taxi Affiliation        41.930579   \n",
       "4          Cash          Dispatch Taxi Affiliation        41.929263   \n",
       "\n",
       "  pickup_longitude                       pickup_location  dropoff_latitude  \\\n",
       "0       -87.721559      POINT (-87.7215590627 41.968069)         41.968069   \n",
       "1       -87.592311    POINT (-87.592310855 41.794090253)         41.794090   \n",
       "2       -87.642959  POINT (-87.6429586652 41.8679024175)         41.906026   \n",
       "3       -87.642206  POINT (-87.6422063127 41.9305785697)         41.946295   \n",
       "4       -87.635891  POINT (-87.6358909539 41.9292629902)         41.921855   \n",
       "\n",
       "   dropoff_longitude                      dropoff_location  \n",
       "0         -87.721559      POINT (-87.7215590627 41.968069)  \n",
       "1         -87.592311    POINT (-87.592310855 41.794090253)  \n",
       "2         -87.675312   POINT (-87.6753116216 41.906025969)  \n",
       "3         -87.654298  POINT (-87.6542980837 41.9462945357)  \n",
       "4         -87.646211  POINT (-87.6462109769 41.9218549112)  \n",
       "\n",
       "[5 rows x 23 columns]"
      ]
     },
     "execution_count": 6,
     "metadata": {},
     "output_type": "execute_result"
    }
   ],
   "source": [
    "# Construct a reference to the \"taxi_trips\" table\n",
    "table_ref = dataset_ref.table(\"taxi_trips\")\n",
    "\n",
    "# API request - fetch the table\n",
    "table = client.get_table(table_ref)\n",
    "\n",
    "# Preview the first five lines of the \"taxi_trips\" table\n",
    "client.list_rows(table, max_results=5).to_dataframe()"
   ]
  },
  {
   "cell_type": "markdown",
   "id": "20bd8541",
   "metadata": {
    "papermill": {
     "duration": 0.011108,
     "end_time": "2024-06-30T17:35:34.421633",
     "exception": false,
     "start_time": "2024-06-30T17:35:34.410525",
     "status": "completed"
    },
    "tags": []
   },
   "source": [
    "After deciding whether you see any important issues, run the code cell below."
   ]
  },
  {
   "cell_type": "code",
   "execution_count": 7,
   "id": "1ddd32ef",
   "metadata": {
    "execution": {
     "iopub.execute_input": "2024-06-30T17:35:34.445604Z",
     "iopub.status.busy": "2024-06-30T17:35:34.445113Z",
     "iopub.status.idle": "2024-06-30T17:35:34.451229Z",
     "shell.execute_reply": "2024-06-30T17:35:34.449708Z"
    },
    "papermill": {
     "duration": 0.02097,
     "end_time": "2024-06-30T17:35:34.453664",
     "exception": false,
     "start_time": "2024-06-30T17:35:34.432694",
     "status": "completed"
    },
    "tags": []
   },
   "outputs": [],
   "source": [
    "# Check your answer (Run this code cell to receive credit!)\n",
    "# q_2.solution()"
   ]
  },
  {
   "cell_type": "markdown",
   "id": "257f50d2",
   "metadata": {
    "papermill": {
     "duration": 0.010148,
     "end_time": "2024-06-30T17:35:34.474541",
     "exception": false,
     "start_time": "2024-06-30T17:35:34.464393",
     "status": "completed"
    },
    "tags": []
   },
   "source": [
    "### 3) Determine when this data is from\n",
    "\n",
    "If the data is sufficiently old, we might be careful before assuming the data is still relevant to traffic patterns today. Write a query that counts the number of trips in each year.  \n",
    "\n",
    "Your results should have two columns:\n",
    "- `year` - the year of the trips\n",
    "- `num_trips` - the number of trips in that year\n",
    "\n",
    "Hints:\n",
    "- When using **GROUP BY** and **ORDER BY**, you should refer to the columns by the alias `year` that you set at the top of the **SELECT** query.\n",
    "- The SQL code to **SELECT** the year from `trip_start_timestamp` is <code>SELECT EXTRACT(YEAR FROM trip_start_timestamp)</code>\n",
    "- The **FROM** field can be a little tricky until you are used to it.  The format is:\n",
    "    1. A backick (the symbol \\`).\n",
    "    2. The project name. In this case it is `bigquery-public-data`.\n",
    "    3. A period.\n",
    "    4. The dataset name. In this case, it is `chicago_taxi_trips`.\n",
    "    5. A period.\n",
    "    6. The table name. You used this as your answer in **1) Find the data**.\n",
    "    7. A backtick (the symbol \\`)."
   ]
  },
  {
   "cell_type": "code",
   "execution_count": 8,
   "id": "c4c5d9c5",
   "metadata": {
    "execution": {
     "iopub.execute_input": "2024-06-30T17:35:34.497601Z",
     "iopub.status.busy": "2024-06-30T17:35:34.497162Z",
     "iopub.status.idle": "2024-06-30T17:35:36.017374Z",
     "shell.execute_reply": "2024-06-30T17:35:36.016074Z"
    },
    "papermill": {
     "duration": 1.536883,
     "end_time": "2024-06-30T17:35:36.022081",
     "exception": false,
     "start_time": "2024-06-30T17:35:34.485198",
     "status": "completed"
    },
    "tags": []
   },
   "outputs": [
    {
     "name": "stdout",
     "output_type": "stream",
     "text": [
      "   year  num_trips\n",
      "0  2024    2555595\n",
      "1  2023    6495415\n",
      "2  2022    6382071\n",
      "3  2021    3947677\n",
      "4  2020    3888831\n"
     ]
    },
    {
     "data": {
      "application/javascript": [
       "parent.postMessage({\"jupyterEvent\": \"custom.exercise_interaction\", \"data\": {\"outcomeType\": 1, \"valueTowardsCompletion\": 0.16666666666666666, \"interactionType\": 1, \"questionType\": 2, \"questionId\": \"3_YearDistrib\", \"learnToolsVersion\": \"0.3.4\", \"failureMessage\": \"\", \"exceptionClass\": \"\", \"trace\": \"\"}}, \"*\")"
      ],
      "text/plain": [
       "<IPython.core.display.Javascript object>"
      ]
     },
     "metadata": {},
     "output_type": "display_data"
    },
    {
     "data": {
      "text/markdown": [
       "<span style=\"color:#33cc33\">Correct</span>"
      ],
      "text/plain": [
       "Correct"
      ]
     },
     "metadata": {},
     "output_type": "display_data"
    }
   ],
   "source": [
    "# Your code goes here\n",
    "rides_per_year_query = \"\"\"\n",
    "                          SELECT EXTRACT(YEAR from trip_start_timestamp) as year, COUNT(1) as num_trips\n",
    "                          FROM `bigquery-public-data.chicago_taxi_trips.taxi_trips`\n",
    "                          GROUP BY year\n",
    "                          ORDER BY year DESC\n",
    "                          \n",
    "                          \n",
    "                          \n",
    "\"\"\"\n",
    "\n",
    "# Set up the query (cancel the query if it would use too much of \n",
    "# your quota)\n",
    "safe_config = bigquery.QueryJobConfig(maximum_bytes_billed=10**10)\n",
    "rides_per_year_query_job = client.query(rides_per_year_query, job_config=safe_config)\n",
    "\n",
    "# API request - run the query, and return a pandas DataFrame\n",
    "rides_per_year_result = rides_per_year_query_job.to_dataframe()# Your code goes here\n",
    "\n",
    "# View results\n",
    "print(rides_per_year_result.head())\n",
    "\n",
    "# Check your answer\n",
    "q_3.check()"
   ]
  },
  {
   "cell_type": "markdown",
   "id": "1417fcc2",
   "metadata": {
    "papermill": {
     "duration": 0.011557,
     "end_time": "2024-06-30T17:35:36.048604",
     "exception": false,
     "start_time": "2024-06-30T17:35:36.037047",
     "status": "completed"
    },
    "tags": []
   },
   "source": [
    "For a hint or the solution, uncomment the appropriate line below."
   ]
  },
  {
   "cell_type": "code",
   "execution_count": 9,
   "id": "68c7b045",
   "metadata": {
    "execution": {
     "iopub.execute_input": "2024-06-30T17:35:36.081945Z",
     "iopub.status.busy": "2024-06-30T17:35:36.081491Z",
     "iopub.status.idle": "2024-06-30T17:35:36.088948Z",
     "shell.execute_reply": "2024-06-30T17:35:36.087370Z"
    },
    "papermill": {
     "duration": 0.029406,
     "end_time": "2024-06-30T17:35:36.092387",
     "exception": false,
     "start_time": "2024-06-30T17:35:36.062981",
     "status": "completed"
    },
    "tags": []
   },
   "outputs": [],
   "source": [
    "# q_3.hint()\n",
    "# q_3.solution()"
   ]
  },
  {
   "cell_type": "markdown",
   "id": "432bf4f0",
   "metadata": {
    "papermill": {
     "duration": 0.012296,
     "end_time": "2024-06-30T17:35:36.117774",
     "exception": false,
     "start_time": "2024-06-30T17:35:36.105478",
     "status": "completed"
    },
    "tags": []
   },
   "source": [
    "### 4) Dive slightly deeper\n",
    "\n",
    "You'd like to take a closer look at rides from 2016.  Copy the query you used above in `rides_per_year_query` into the cell below for `rides_per_month_query`.  Then modify it in two ways:\n",
    "1. Use a **WHERE** clause to limit the query to data from 2016.\n",
    "2. Modify the query to extract the month rather than the year."
   ]
  },
  {
   "cell_type": "code",
   "execution_count": 10,
   "id": "eebe43a0",
   "metadata": {
    "execution": {
     "iopub.execute_input": "2024-06-30T17:35:36.144105Z",
     "iopub.status.busy": "2024-06-30T17:35:36.143232Z",
     "iopub.status.idle": "2024-06-30T17:35:37.603373Z",
     "shell.execute_reply": "2024-06-30T17:35:37.602181Z"
    },
    "papermill": {
     "duration": 1.47633,
     "end_time": "2024-06-30T17:35:37.606145",
     "exception": false,
     "start_time": "2024-06-30T17:35:36.129815",
     "status": "completed"
    },
    "tags": []
   },
   "outputs": [
    {
     "name": "stdout",
     "output_type": "stream",
     "text": [
      "   month  num_trips\n",
      "0     12    2312992\n",
      "1     11    2387790\n",
      "2     10    2725340\n",
      "3      9    2532650\n",
      "4      8    2629482\n"
     ]
    },
    {
     "data": {
      "application/javascript": [
       "parent.postMessage({\"jupyterEvent\": \"custom.exercise_interaction\", \"data\": {\"outcomeType\": 1, \"valueTowardsCompletion\": 0.16666666666666666, \"interactionType\": 1, \"questionType\": 2, \"questionId\": \"4_MonthDistrib\", \"learnToolsVersion\": \"0.3.4\", \"failureMessage\": \"\", \"exceptionClass\": \"\", \"trace\": \"\"}}, \"*\")"
      ],
      "text/plain": [
       "<IPython.core.display.Javascript object>"
      ]
     },
     "metadata": {},
     "output_type": "display_data"
    },
    {
     "data": {
      "text/markdown": [
       "<span style=\"color:#33cc33\">Correct</span>"
      ],
      "text/plain": [
       "Correct"
      ]
     },
     "metadata": {},
     "output_type": "display_data"
    }
   ],
   "source": [
    "# Your code goes here\n",
    "rides_per_month_query = \"\"\"\n",
    "                          SELECT EXTRACT(MONTH from trip_start_timestamp) as month, COUNT(1) as num_trips\n",
    "                          FROM `bigquery-public-data.chicago_taxi_trips.taxi_trips`\n",
    "                          WHERE EXTRACT(YEAR FROM trip_start_timestamp) = 2016\n",
    "                          GROUP BY month\n",
    "                          ORDER BY month DESC\n",
    "\"\"\" \n",
    "\n",
    "# Set up the query\n",
    "safe_config = bigquery.QueryJobConfig(maximum_bytes_billed=10**10)\n",
    "rides_per_month_query_job = client.query(rides_per_month_query, job_config=safe_config)\n",
    "\n",
    "\n",
    "# API request - run the query, and return a pandas DataFrame\n",
    "rides_per_month_result = rides_per_month_query_job.to_dataframe() # Your code goes here\n",
    "\n",
    "# View results\n",
    "print(rides_per_month_result.head())\n",
    "\n",
    "# Check your answer\n",
    "q_4.check()"
   ]
  },
  {
   "cell_type": "markdown",
   "id": "22315f80",
   "metadata": {
    "papermill": {
     "duration": 0.011759,
     "end_time": "2024-06-30T17:35:37.629874",
     "exception": false,
     "start_time": "2024-06-30T17:35:37.618115",
     "status": "completed"
    },
    "tags": []
   },
   "source": [
    "For a hint or the solution, uncomment the appropriate line below."
   ]
  },
  {
   "cell_type": "code",
   "execution_count": 11,
   "id": "efc90168",
   "metadata": {
    "execution": {
     "iopub.execute_input": "2024-06-30T17:35:37.656599Z",
     "iopub.status.busy": "2024-06-30T17:35:37.655273Z",
     "iopub.status.idle": "2024-06-30T17:35:37.660655Z",
     "shell.execute_reply": "2024-06-30T17:35:37.659578Z"
    },
    "papermill": {
     "duration": 0.021409,
     "end_time": "2024-06-30T17:35:37.663191",
     "exception": false,
     "start_time": "2024-06-30T17:35:37.641782",
     "status": "completed"
    },
    "tags": []
   },
   "outputs": [],
   "source": [
    "#q_4.hint()\n",
    "# q_4.solution()"
   ]
  },
  {
   "cell_type": "markdown",
   "id": "2dce1bee",
   "metadata": {
    "papermill": {
     "duration": 0.011014,
     "end_time": "2024-06-30T17:35:37.686205",
     "exception": false,
     "start_time": "2024-06-30T17:35:37.675191",
     "status": "completed"
    },
    "tags": []
   },
   "source": [
    "### 5) Write the query\n",
    "\n",
    "It's time to step up the sophistication of your queries.  Write a query that shows, for each hour of the day in the dataset, the corresponding number of trips and average speed.\n",
    "\n",
    "Your results should have three columns:\n",
    "- `hour_of_day` - sort by this column, which holds the result of extracting the hour from `trip_start_timestamp`.\n",
    "- `num_trips` - the count of the total number of trips in each hour of the day (e.g. how many trips were started between 6AM and 7AM, independent of which day it occurred on).\n",
    "- `avg_mph` - the average speed, measured in miles per hour, for trips that started in that hour of the day.  Average speed in miles per hour is calculated as `3600 * SUM(trip_miles) / SUM(trip_seconds)`. (The value 3600 is used to convert from seconds to hours.)\n",
    "\n",
    "Restrict your query to data meeting the following criteria:\n",
    "- a `trip_start_timestamp` > **2016-01-01** and < **2016-04-01**\n",
    "- `trip_seconds` > 0 and `trip_miles` > 0\n",
    "\n",
    "You will use a common table expression (CTE) to select just the relevant rides.  Because this dataset is very big, this CTE should select only the columns you'll need to create the final output (though you won't actually create those in the CTE -- instead you'll create those in the later **SELECT** statement below the CTE).\n",
    "\n",
    "This is a much harder query than anything you've written so far.  Good luck!"
   ]
  },
  {
   "cell_type": "code",
   "execution_count": 12,
   "id": "b1d3a836",
   "metadata": {
    "execution": {
     "iopub.execute_input": "2024-06-30T17:35:37.711176Z",
     "iopub.status.busy": "2024-06-30T17:35:37.710687Z",
     "iopub.status.idle": "2024-06-30T17:35:39.195423Z",
     "shell.execute_reply": "2024-06-30T17:35:39.193879Z"
    },
    "papermill": {
     "duration": 1.500723,
     "end_time": "2024-06-30T17:35:39.198184",
     "exception": false,
     "start_time": "2024-06-30T17:35:37.697461",
     "status": "completed"
    },
    "tags": []
   },
   "outputs": [
    {
     "name": "stdout",
     "output_type": "stream",
     "text": [
      "    hour_of_day  num_trips    avg_mph\n",
      "0             0     203092  20.191744\n",
      "1             1     178046  18.628598\n",
      "2             2     143447  18.444370\n",
      "3             3     108899  19.273107\n",
      "4             4      80067  27.599669\n",
      "5             5      75786  33.065604\n",
      "6             6     102254  28.533112\n",
      "7             7     187585  19.884592\n",
      "8             8     284223  16.787900\n",
      "9             9     306854  18.434124\n",
      "10           10     279762  20.091309\n",
      "11           11     294006  20.926340\n",
      "12           12     311522  20.063901\n",
      "13           13     317225  19.766321\n",
      "14           14     312629  19.309655\n",
      "15           15     319953  18.515564\n",
      "16           16     349455  17.168814\n",
      "17           17     394324  14.641375\n",
      "18           18     431991  15.381995\n",
      "19           19     416743  17.795008\n",
      "20           20     356279  20.347398\n",
      "21           21     318363  22.584731\n",
      "22           22     289886  21.129847\n",
      "23           23     241690  20.259757\n"
     ]
    },
    {
     "data": {
      "application/javascript": [
       "parent.postMessage({\"jupyterEvent\": \"custom.exercise_interaction\", \"data\": {\"outcomeType\": 1, \"valueTowardsCompletion\": 0.16666666666666666, \"interactionType\": 1, \"questionType\": 2, \"questionId\": \"5_TheLongQuery\", \"learnToolsVersion\": \"0.3.4\", \"failureMessage\": \"\", \"exceptionClass\": \"\", \"trace\": \"\"}}, \"*\")"
      ],
      "text/plain": [
       "<IPython.core.display.Javascript object>"
      ]
     },
     "metadata": {},
     "output_type": "display_data"
    },
    {
     "data": {
      "text/markdown": [
       "<span style=\"color:#33cc33\">Correct</span>"
      ],
      "text/plain": [
       "Correct"
      ]
     },
     "metadata": {},
     "output_type": "display_data"
    }
   ],
   "source": [
    "# Your code goes here\n",
    "speeds_query = \"\"\"\n",
    "               WITH RelevantRides AS\n",
    "               (\n",
    "                   SELECT EXTRACT(HOUR from trip_start_timestamp) AS hour_of_day,\n",
    "                   trip_miles, \n",
    "                   trip_seconds\n",
    "                   FROM `bigquery-public-data.chicago_taxi_trips.taxi_trips`\n",
    "                   WHERE trip_start_timestamp > '2016-01-01' AND \n",
    "                         trip_start_timestamp < '2016-04-01' AND \n",
    "                         trip_seconds > 0 AND \n",
    "                         trip_miles > 0\n",
    "               )\n",
    "               SELECT hour_of_day,\n",
    "               COUNT(1) AS num_trips, \n",
    "               3600 * SUM(trip_miles) / SUM(trip_seconds) AS avg_mph\n",
    "               FROM RelevantRides\n",
    "               GROUP BY hour_of_day\n",
    "               ORDER BY hour_of_day\n",
    "               \"\"\"\n",
    "\n",
    "# Set up the query\n",
    "safe_config = bigquery.QueryJobConfig(maximum_bytes_billed=10**10)\n",
    "speeds_query_job = client.query(speeds_query, job_config=safe_config)\n",
    "\n",
    "\n",
    "# API request - run the query, and return a pandas DataFrame\n",
    "speeds_result = speeds_query_job.to_dataframe()\n",
    "\n",
    "\n",
    "# View results\n",
    "print(speeds_result)\n",
    "\n",
    "# Check your answer\n",
    "q_5.check()"
   ]
  },
  {
   "cell_type": "markdown",
   "id": "3dd3821b",
   "metadata": {
    "papermill": {
     "duration": 0.012233,
     "end_time": "2024-06-30T17:35:39.222292",
     "exception": false,
     "start_time": "2024-06-30T17:35:39.210059",
     "status": "completed"
    },
    "tags": []
   },
   "source": [
    "For the solution, uncomment the appropriate line below."
   ]
  },
  {
   "cell_type": "code",
   "execution_count": 13,
   "id": "d24324e6",
   "metadata": {
    "execution": {
     "iopub.execute_input": "2024-06-30T17:35:39.249301Z",
     "iopub.status.busy": "2024-06-30T17:35:39.248169Z",
     "iopub.status.idle": "2024-06-30T17:35:39.254335Z",
     "shell.execute_reply": "2024-06-30T17:35:39.253049Z"
    },
    "papermill": {
     "duration": 0.022698,
     "end_time": "2024-06-30T17:35:39.257047",
     "exception": false,
     "start_time": "2024-06-30T17:35:39.234349",
     "status": "completed"
    },
    "tags": []
   },
   "outputs": [],
   "source": [
    "# q_5.solution()"
   ]
  },
  {
   "cell_type": "markdown",
   "id": "bd394521",
   "metadata": {
    "papermill": {
     "duration": 0.011757,
     "end_time": "2024-06-30T17:35:39.280711",
     "exception": false,
     "start_time": "2024-06-30T17:35:39.268954",
     "status": "completed"
    },
    "tags": []
   },
   "source": [
    "That's a hard query. If you made good progress towards the solution, congratulations!"
   ]
  },
  {
   "cell_type": "markdown",
   "id": "67327170",
   "metadata": {
    "papermill": {
     "duration": 0.011408,
     "end_time": "2024-06-30T17:35:39.303897",
     "exception": false,
     "start_time": "2024-06-30T17:35:39.292489",
     "status": "completed"
    },
    "tags": []
   },
   "source": [
    "# Keep going\n",
    "\n",
    "You can write very complex queries now with a single data source. But nothing expands the horizons of SQL as much as the ability to combine or **JOIN** tables.\n",
    "\n",
    "**[Click here](https://www.kaggle.com/dansbecker/joining-data)** to start the last lesson in the Intro to SQL course."
   ]
  },
  {
   "cell_type": "markdown",
   "id": "6972cd2e",
   "metadata": {
    "papermill": {
     "duration": 0.012045,
     "end_time": "2024-06-30T17:35:39.327894",
     "exception": false,
     "start_time": "2024-06-30T17:35:39.315849",
     "status": "completed"
    },
    "tags": []
   },
   "source": [
    "---\n",
    "\n",
    "\n",
    "\n",
    "\n",
    "*Have questions or comments? Visit the [course discussion forum](https://www.kaggle.com/learn/intro-to-sql/discussion) to chat with other learners.*"
   ]
  }
 ],
 "metadata": {
  "kaggle": {
   "accelerator": "none",
   "dataSources": [
    {
     "datasetId": 22219,
     "sourceId": 28536,
     "sourceType": "datasetVersion"
    },
    {
     "datasetId": 11496,
     "sourceId": 285947,
     "sourceType": "datasetVersion"
    }
   ],
   "isGpuEnabled": false,
   "isInternetEnabled": true,
   "language": "python",
   "sourceType": "notebook"
  },
  "kernelspec": {
   "display_name": "Python 3",
   "language": "python",
   "name": "python3"
  },
  "language_info": {
   "codemirror_mode": {
    "name": "ipython",
    "version": 3
   },
   "file_extension": ".py",
   "mimetype": "text/x-python",
   "name": "python",
   "nbconvert_exporter": "python",
   "pygments_lexer": "ipython3",
   "version": "3.10.13"
  },
  "papermill": {
   "default_parameters": {},
   "duration": 49.908691,
   "end_time": "2024-06-30T17:35:40.165220",
   "environment_variables": {},
   "exception": null,
   "input_path": "__notebook__.ipynb",
   "output_path": "__notebook__.ipynb",
   "parameters": {},
   "start_time": "2024-06-30T17:34:50.256529",
   "version": "2.5.0"
  }
 },
 "nbformat": 4,
 "nbformat_minor": 5
}
