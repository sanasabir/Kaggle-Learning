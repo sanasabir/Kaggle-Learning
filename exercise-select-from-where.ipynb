{
 "cells": [
  {
   "cell_type": "markdown",
   "id": "c087f84a",
   "metadata": {
    "papermill": {
     "duration": 0.004111,
     "end_time": "2024-06-29T12:22:01.926751",
     "exception": false,
     "start_time": "2024-06-29T12:22:01.922640",
     "status": "completed"
    },
    "tags": []
   },
   "source": [
    "**This notebook is an exercise in the [SQL](https://www.kaggle.com/learn/intro-to-sql) course.  You can reference the tutorial at [this link](https://www.kaggle.com/dansbecker/select-from-where).**\n",
    "\n",
    "---\n"
   ]
  },
  {
   "cell_type": "markdown",
   "id": "81be50b7",
   "metadata": {
    "papermill": {
     "duration": 0.003263,
     "end_time": "2024-06-29T12:22:01.933774",
     "exception": false,
     "start_time": "2024-06-29T12:22:01.930511",
     "status": "completed"
    },
    "tags": []
   },
   "source": [
    "# Introduction\n",
    "\n",
    "Try writing some **SELECT** statements of your own to explore a large dataset of air pollution measurements.\n",
    "\n",
    "Run the cell below to set up the feedback system."
   ]
  },
  {
   "cell_type": "code",
   "execution_count": 1,
   "id": "9a8e9f5e",
   "metadata": {
    "execution": {
     "iopub.execute_input": "2024-06-29T12:22:01.942162Z",
     "iopub.status.busy": "2024-06-29T12:22:01.941812Z",
     "iopub.status.idle": "2024-06-29T12:22:59.117002Z",
     "shell.execute_reply": "2024-06-29T12:22:59.116021Z"
    },
    "papermill": {
     "duration": 57.185019,
     "end_time": "2024-06-29T12:22:59.122192",
     "exception": false,
     "start_time": "2024-06-29T12:22:01.937173",
     "status": "completed"
    },
    "tags": []
   },
   "outputs": [
    {
     "name": "stdout",
     "output_type": "stream",
     "text": [
      "Using Kaggle's public dataset BigQuery integration.\n",
      "Setup Complete\n"
     ]
    }
   ],
   "source": [
    "# Set up feedback system\n",
    "from learntools.core import binder\n",
    "binder.bind(globals())\n",
    "from learntools.sql.ex2 import *\n",
    "print(\"Setup Complete\")"
   ]
  },
  {
   "cell_type": "markdown",
   "id": "9c1c1e78",
   "metadata": {
    "papermill": {
     "duration": 0.003469,
     "end_time": "2024-06-29T12:22:59.129413",
     "exception": false,
     "start_time": "2024-06-29T12:22:59.125944",
     "status": "completed"
    },
    "tags": []
   },
   "source": [
    "The code cell below fetches the `global_air_quality` table from the `openaq` dataset.  We also preview the first five rows of the table."
   ]
  },
  {
   "cell_type": "code",
   "execution_count": 2,
   "id": "83a7fc7c",
   "metadata": {
    "execution": {
     "iopub.execute_input": "2024-06-29T12:22:59.138333Z",
     "iopub.status.busy": "2024-06-29T12:22:59.137837Z",
     "iopub.status.idle": "2024-06-29T12:23:01.299034Z",
     "shell.execute_reply": "2024-06-29T12:23:01.297879Z"
    },
    "papermill": {
     "duration": 2.168231,
     "end_time": "2024-06-29T12:23:01.301332",
     "exception": false,
     "start_time": "2024-06-29T12:22:59.133101",
     "status": "completed"
    },
    "tags": []
   },
   "outputs": [
    {
     "name": "stdout",
     "output_type": "stream",
     "text": [
      "Using Kaggle's public dataset BigQuery integration.\n"
     ]
    },
    {
     "data": {
      "text/html": [
       "<div>\n",
       "<style scoped>\n",
       "    .dataframe tbody tr th:only-of-type {\n",
       "        vertical-align: middle;\n",
       "    }\n",
       "\n",
       "    .dataframe tbody tr th {\n",
       "        vertical-align: top;\n",
       "    }\n",
       "\n",
       "    .dataframe thead th {\n",
       "        text-align: right;\n",
       "    }\n",
       "</style>\n",
       "<table border=\"1\" class=\"dataframe\">\n",
       "  <thead>\n",
       "    <tr style=\"text-align: right;\">\n",
       "      <th></th>\n",
       "      <th>location</th>\n",
       "      <th>city</th>\n",
       "      <th>country</th>\n",
       "      <th>pollutant</th>\n",
       "      <th>value</th>\n",
       "      <th>timestamp</th>\n",
       "      <th>unit</th>\n",
       "      <th>source_name</th>\n",
       "      <th>latitude</th>\n",
       "      <th>longitude</th>\n",
       "      <th>averaged_over_in_hours</th>\n",
       "      <th>location_geom</th>\n",
       "    </tr>\n",
       "  </thead>\n",
       "  <tbody>\n",
       "    <tr>\n",
       "      <th>0</th>\n",
       "      <td>Borówiec, ul. Drapałka</td>\n",
       "      <td>Borówiec</td>\n",
       "      <td>PL</td>\n",
       "      <td>bc</td>\n",
       "      <td>0.85217</td>\n",
       "      <td>2022-04-28 07:00:00+00:00</td>\n",
       "      <td>µg/m³</td>\n",
       "      <td>GIOS</td>\n",
       "      <td>1.0</td>\n",
       "      <td>52.276794</td>\n",
       "      <td>17.074114</td>\n",
       "      <td>POINT(52.276794 1)</td>\n",
       "    </tr>\n",
       "    <tr>\n",
       "      <th>1</th>\n",
       "      <td>Kraków, ul. Bulwarowa</td>\n",
       "      <td>Kraków</td>\n",
       "      <td>PL</td>\n",
       "      <td>bc</td>\n",
       "      <td>0.91284</td>\n",
       "      <td>2022-04-27 23:00:00+00:00</td>\n",
       "      <td>µg/m³</td>\n",
       "      <td>GIOS</td>\n",
       "      <td>1.0</td>\n",
       "      <td>50.069308</td>\n",
       "      <td>20.053492</td>\n",
       "      <td>POINT(50.069308 1)</td>\n",
       "    </tr>\n",
       "    <tr>\n",
       "      <th>2</th>\n",
       "      <td>Płock, ul. Reja</td>\n",
       "      <td>Płock</td>\n",
       "      <td>PL</td>\n",
       "      <td>bc</td>\n",
       "      <td>1.41000</td>\n",
       "      <td>2022-03-30 04:00:00+00:00</td>\n",
       "      <td>µg/m³</td>\n",
       "      <td>GIOS</td>\n",
       "      <td>1.0</td>\n",
       "      <td>52.550938</td>\n",
       "      <td>19.709791</td>\n",
       "      <td>POINT(52.550938 1)</td>\n",
       "    </tr>\n",
       "    <tr>\n",
       "      <th>3</th>\n",
       "      <td>Elbląg, ul. Bażyńskiego</td>\n",
       "      <td>Elbląg</td>\n",
       "      <td>PL</td>\n",
       "      <td>bc</td>\n",
       "      <td>0.33607</td>\n",
       "      <td>2022-05-03 13:00:00+00:00</td>\n",
       "      <td>µg/m³</td>\n",
       "      <td>GIOS</td>\n",
       "      <td>1.0</td>\n",
       "      <td>54.167847</td>\n",
       "      <td>19.410942</td>\n",
       "      <td>POINT(54.167847 1)</td>\n",
       "    </tr>\n",
       "    <tr>\n",
       "      <th>4</th>\n",
       "      <td>Piastów, ul. Pułaskiego</td>\n",
       "      <td>Piastów</td>\n",
       "      <td>PL</td>\n",
       "      <td>bc</td>\n",
       "      <td>0.51000</td>\n",
       "      <td>2022-05-11 05:00:00+00:00</td>\n",
       "      <td>µg/m³</td>\n",
       "      <td>GIOS</td>\n",
       "      <td>1.0</td>\n",
       "      <td>52.191728</td>\n",
       "      <td>20.837489</td>\n",
       "      <td>POINT(52.191728 1)</td>\n",
       "    </tr>\n",
       "  </tbody>\n",
       "</table>\n",
       "</div>"
      ],
      "text/plain": [
       "                  location      city country pollutant    value  \\\n",
       "0   Borówiec, ul. Drapałka  Borówiec      PL        bc  0.85217   \n",
       "1    Kraków, ul. Bulwarowa    Kraków      PL        bc  0.91284   \n",
       "2          Płock, ul. Reja     Płock      PL        bc  1.41000   \n",
       "3  Elbląg, ul. Bażyńskiego    Elbląg      PL        bc  0.33607   \n",
       "4  Piastów, ul. Pułaskiego   Piastów      PL        bc  0.51000   \n",
       "\n",
       "                  timestamp   unit source_name  latitude  longitude  \\\n",
       "0 2022-04-28 07:00:00+00:00  µg/m³        GIOS       1.0  52.276794   \n",
       "1 2022-04-27 23:00:00+00:00  µg/m³        GIOS       1.0  50.069308   \n",
       "2 2022-03-30 04:00:00+00:00  µg/m³        GIOS       1.0  52.550938   \n",
       "3 2022-05-03 13:00:00+00:00  µg/m³        GIOS       1.0  54.167847   \n",
       "4 2022-05-11 05:00:00+00:00  µg/m³        GIOS       1.0  52.191728   \n",
       "\n",
       "   averaged_over_in_hours       location_geom  \n",
       "0               17.074114  POINT(52.276794 1)  \n",
       "1               20.053492  POINT(50.069308 1)  \n",
       "2               19.709791  POINT(52.550938 1)  \n",
       "3               19.410942  POINT(54.167847 1)  \n",
       "4               20.837489  POINT(52.191728 1)  "
      ]
     },
     "execution_count": 2,
     "metadata": {},
     "output_type": "execute_result"
    }
   ],
   "source": [
    "from google.cloud import bigquery\n",
    "\n",
    "# Create a \"Client\" object\n",
    "client = bigquery.Client()\n",
    "\n",
    "# Construct a reference to the \"openaq\" dataset\n",
    "dataset_ref = client.dataset(\"openaq\", project=\"bigquery-public-data\")\n",
    "\n",
    "# API request - fetch the dataset\n",
    "dataset = client.get_dataset(dataset_ref)\n",
    "\n",
    "# Construct a reference to the \"global_air_quality\" table\n",
    "table_ref = dataset_ref.table(\"global_air_quality\")\n",
    "\n",
    "# API request - fetch the table\n",
    "table = client.get_table(table_ref)\n",
    "\n",
    "# Preview the first five lines of the \"global_air_quality\" table\n",
    "client.list_rows(table, max_results=5).to_dataframe()"
   ]
  },
  {
   "cell_type": "markdown",
   "id": "1e5cc5e2",
   "metadata": {
    "papermill": {
     "duration": 0.003936,
     "end_time": "2024-06-29T12:23:01.309501",
     "exception": false,
     "start_time": "2024-06-29T12:23:01.305565",
     "status": "completed"
    },
    "tags": []
   },
   "source": [
    "# Exercises\n",
    "\n",
    "### 1) Units of measurement\n",
    "\n",
    "Which countries have reported pollution levels in units of \"ppm\"?  In the code cell below, set `first_query` to an SQL query that pulls the appropriate entries from the `country` column.\n",
    "\n",
    "In case it's useful to see an example query, here's some code from the tutorial:\n",
    "\n",
    "```\n",
    "query = \"\"\"\n",
    "        SELECT city\n",
    "        FROM `bigquery-public-data.openaq.global_air_quality`\n",
    "        WHERE country = 'US'\n",
    "        \"\"\"\n",
    "```"
   ]
  },
  {
   "cell_type": "code",
   "execution_count": 3,
   "id": "760d6593",
   "metadata": {
    "execution": {
     "iopub.execute_input": "2024-06-29T12:23:01.319178Z",
     "iopub.status.busy": "2024-06-29T12:23:01.318816Z",
     "iopub.status.idle": "2024-06-29T12:23:25.470724Z",
     "shell.execute_reply": "2024-06-29T12:23:25.469785Z"
    },
    "papermill": {
     "duration": 24.159138,
     "end_time": "2024-06-29T12:23:25.472724",
     "exception": false,
     "start_time": "2024-06-29T12:23:01.313586",
     "status": "completed"
    },
    "tags": []
   },
   "outputs": [
    {
     "name": "stdout",
     "output_type": "stream",
     "text": [
      "  country\n",
      "0      IL\n",
      "1      IL\n",
      "2      AR\n",
      "3      IL\n",
      "4      AR\n",
      "You got the right countries. Nice job! Some countries showed up many times in the results. To get each country only once you can run `SELECT DISTINCT country ...`. The DISTINCT keyword ensures each column shows up once, which you'll want in some cases.\n"
     ]
    },
    {
     "data": {
      "application/javascript": [
       "parent.postMessage({\"jupyterEvent\": \"custom.exercise_interaction\", \"data\": {\"outcomeType\": 1, \"valueTowardsCompletion\": 0.5, \"interactionType\": 1, \"questionType\": 2, \"questionId\": \"1_WhichCountries\", \"learnToolsVersion\": \"0.3.4\", \"failureMessage\": \"\", \"exceptionClass\": \"\", \"trace\": \"\"}}, \"*\")"
      ],
      "text/plain": [
       "<IPython.core.display.Javascript object>"
      ]
     },
     "metadata": {},
     "output_type": "display_data"
    },
    {
     "data": {
      "text/markdown": [
       "<span style=\"color:#33cc33\">Correct</span>"
      ],
      "text/plain": [
       "Correct"
      ]
     },
     "metadata": {},
     "output_type": "display_data"
    }
   ],
   "source": [
    "# Query to select countries with units of \"ppm\"\n",
    "first_query = \"\"\"\n",
    "              SELECT country \n",
    "              FROM `bigquery-public-data.openaq.global_air_quality`\n",
    "              WHERE unit = 'ppm'\n",
    "              \"\"\"\n",
    "        \n",
    "# Your code goes here\n",
    "\n",
    "# Set up the query (cancel the query if it would use too much of \n",
    "# your quota, with the limit set to 10 GB)\n",
    "safe_config = bigquery.QueryJobConfig(maximum_bytes_billed=10**10)\n",
    "first_query_job = client.query(first_query, job_config=safe_config)\n",
    "\n",
    "# API request - run the query, and return a pandas DataFrame\n",
    "first_results = first_query_job.to_dataframe()\n",
    "\n",
    "# View top few rows of results\n",
    "print(first_results.head())\n",
    "\n",
    "# Check your answer\n",
    "q_1.check()"
   ]
  },
  {
   "cell_type": "markdown",
   "id": "e577c7ca",
   "metadata": {
    "papermill": {
     "duration": 0.004278,
     "end_time": "2024-06-29T12:23:25.481516",
     "exception": false,
     "start_time": "2024-06-29T12:23:25.477238",
     "status": "completed"
    },
    "tags": []
   },
   "source": [
    "For the solution, uncomment the line below."
   ]
  },
  {
   "cell_type": "code",
   "execution_count": 4,
   "id": "b28f8729",
   "metadata": {
    "execution": {
     "iopub.execute_input": "2024-06-29T12:23:25.491810Z",
     "iopub.status.busy": "2024-06-29T12:23:25.491446Z",
     "iopub.status.idle": "2024-06-29T12:23:25.499249Z",
     "shell.execute_reply": "2024-06-29T12:23:25.498338Z"
    },
    "papermill": {
     "duration": 0.015484,
     "end_time": "2024-06-29T12:23:25.501396",
     "exception": false,
     "start_time": "2024-06-29T12:23:25.485912",
     "status": "completed"
    },
    "tags": []
   },
   "outputs": [
    {
     "data": {
      "application/javascript": [
       "parent.postMessage({\"jupyterEvent\": \"custom.exercise_interaction\", \"data\": {\"interactionType\": 3, \"questionType\": 2, \"questionId\": \"1_WhichCountries\", \"learnToolsVersion\": \"0.3.4\", \"valueTowardsCompletion\": 0.0, \"failureMessage\": \"\", \"exceptionClass\": \"\", \"trace\": \"\", \"outcomeType\": 4}}, \"*\")"
      ],
      "text/plain": [
       "<IPython.core.display.Javascript object>"
      ]
     },
     "metadata": {},
     "output_type": "display_data"
    },
    {
     "data": {
      "text/markdown": [
       "<span style=\"color:#33cc99\">Solution:</span> \n",
       "```python\n",
       "\n",
       "first_query = \"\"\"\n",
       "              SELECT country\n",
       "              FROM `bigquery-public-data.openaq.global_air_quality`\n",
       "              WHERE unit = \"ppm\"\n",
       "              \"\"\"\n",
       "\n",
       "# Or to get each country just once, you could use\n",
       "first_query = \"\"\"\n",
       "              SELECT DISTINCT country\n",
       "              FROM `bigquery-public-data.openaq.global_air_quality`\n",
       "              WHERE unit = \"ppm\"\n",
       "              \"\"\"\n",
       "\n",
       "```"
      ],
      "text/plain": [
       "Solution: \n",
       "```python\n",
       "\n",
       "first_query = \"\"\"\n",
       "              SELECT country\n",
       "              FROM `bigquery-public-data.openaq.global_air_quality`\n",
       "              WHERE unit = \"ppm\"\n",
       "              \"\"\"\n",
       "\n",
       "# Or to get each country just once, you could use\n",
       "first_query = \"\"\"\n",
       "              SELECT DISTINCT country\n",
       "              FROM `bigquery-public-data.openaq.global_air_quality`\n",
       "              WHERE unit = \"ppm\"\n",
       "              \"\"\"\n",
       "\n",
       "```"
      ]
     },
     "metadata": {},
     "output_type": "display_data"
    }
   ],
   "source": [
    "q_1.solution()"
   ]
  },
  {
   "cell_type": "markdown",
   "id": "c3ff1ba9",
   "metadata": {
    "papermill": {
     "duration": 0.004614,
     "end_time": "2024-06-29T12:23:25.510802",
     "exception": false,
     "start_time": "2024-06-29T12:23:25.506188",
     "status": "completed"
    },
    "tags": []
   },
   "source": [
    "### 2) High air quality\n",
    "\n",
    "Which pollution levels were reported to be exactly 0?  \n",
    "- Set `zero_pollution_query` to select **all columns** of the rows where the `value` column is 0.\n",
    "- Set `zero_pollution_results` to a pandas DataFrame containing the query results."
   ]
  },
  {
   "cell_type": "code",
   "execution_count": 5,
   "id": "be1b3896",
   "metadata": {
    "execution": {
     "iopub.execute_input": "2024-06-29T12:23:25.521587Z",
     "iopub.status.busy": "2024-06-29T12:23:25.521249Z",
     "iopub.status.idle": "2024-06-29T12:23:54.055084Z",
     "shell.execute_reply": "2024-06-29T12:23:54.054112Z"
    },
    "papermill": {
     "duration": 28.541854,
     "end_time": "2024-06-29T12:23:54.057282",
     "exception": false,
     "start_time": "2024-06-29T12:23:25.515428",
     "status": "completed"
    },
    "tags": []
   },
   "outputs": [
    {
     "name": "stdout",
     "output_type": "stream",
     "text": [
      "                       location      city country pollutant  value  \\\n",
      "0     Zielonka, Bory Tucholskie  Zielonka      PL        bc    0.0   \n",
      "1    Toruń, ul. Przy Kaszowniku     Toruń      PL        bc    0.0   \n",
      "2           Kielce, ul. Targowa    Kielce      PL        bc    0.0   \n",
      "3     Zielonka, Bory Tucholskie  Zielonka      PL        bc    0.0   \n",
      "4  Koszalin, ul. Armii Krajowej  Koszalin      PL        bc    0.0   \n",
      "\n",
      "                  timestamp   unit source_name  latitude  longitude  \\\n",
      "0 2022-04-29 14:00:00+00:00  µg/m³        GIOS       1.0  53.662136   \n",
      "1 2022-04-19 04:00:00+00:00  µg/m³        GIOS       1.0  53.017628   \n",
      "2 2022-05-07 17:00:00+00:00  µg/m³        GIOS       1.0  50.878998   \n",
      "3 2022-05-19 14:00:00+00:00  µg/m³        GIOS       1.0  53.662136   \n",
      "4 2022-05-12 20:00:00+00:00  µg/m³        GIOS       1.0  54.193986   \n",
      "\n",
      "   averaged_over_in_hours       location_geom  \n",
      "0               17.933986  POINT(53.662136 1)  \n",
      "1               18.612808  POINT(53.017628 1)  \n",
      "2               20.633692  POINT(50.878998 1)  \n",
      "3               17.933986  POINT(53.662136 1)  \n",
      "4               16.172544  POINT(54.193986 1)  \n"
     ]
    },
    {
     "data": {
      "application/javascript": [
       "parent.postMessage({\"jupyterEvent\": \"custom.exercise_interaction\", \"data\": {\"outcomeType\": 1, \"valueTowardsCompletion\": 0.5, \"interactionType\": 1, \"questionType\": 2, \"questionId\": \"2_ZeroPollution\", \"learnToolsVersion\": \"0.3.4\", \"failureMessage\": \"\", \"exceptionClass\": \"\", \"trace\": \"\"}}, \"*\")"
      ],
      "text/plain": [
       "<IPython.core.display.Javascript object>"
      ]
     },
     "metadata": {},
     "output_type": "display_data"
    },
    {
     "data": {
      "text/markdown": [
       "<span style=\"color:#33cc33\">Correct</span>"
      ],
      "text/plain": [
       "Correct"
      ]
     },
     "metadata": {},
     "output_type": "display_data"
    }
   ],
   "source": [
    "# Query to select all columns where pollution levels are exactly 0\n",
    "zero_pollution_query = \"\"\"\n",
    "                       SELECT * \n",
    "                       FROM `bigquery-public-data.openaq.global_air_quality`\n",
    "                       where value = 0\n",
    "\"\"\"\n",
    "\n",
    "# Set up the query\n",
    "safe_config = bigquery.QueryJobConfig(maximum_bytes_billed=10**10)\n",
    "query_job = client.query(zero_pollution_query, job_config=safe_config)\n",
    "\n",
    "# API request - run the query and return a pandas DataFrame\n",
    "zero_pollution_results = query_job.to_dataframe() # Your code goes here\n",
    "\n",
    "print(zero_pollution_results.head())\n",
    "\n",
    "# Check your answer\n",
    "q_2.check()"
   ]
  },
  {
   "cell_type": "markdown",
   "id": "948450bf",
   "metadata": {
    "papermill": {
     "duration": 0.004817,
     "end_time": "2024-06-29T12:23:54.067372",
     "exception": false,
     "start_time": "2024-06-29T12:23:54.062555",
     "status": "completed"
    },
    "tags": []
   },
   "source": [
    "For the solution, uncomment the line below."
   ]
  },
  {
   "cell_type": "code",
   "execution_count": 6,
   "id": "53c60eda",
   "metadata": {
    "execution": {
     "iopub.execute_input": "2024-06-29T12:23:54.079087Z",
     "iopub.status.busy": "2024-06-29T12:23:54.078244Z",
     "iopub.status.idle": "2024-06-29T12:23:54.082543Z",
     "shell.execute_reply": "2024-06-29T12:23:54.081642Z"
    },
    "papermill": {
     "duration": 0.012373,
     "end_time": "2024-06-29T12:23:54.084641",
     "exception": false,
     "start_time": "2024-06-29T12:23:54.072268",
     "status": "completed"
    },
    "tags": []
   },
   "outputs": [],
   "source": [
    "#q_2.solution()"
   ]
  },
  {
   "cell_type": "markdown",
   "id": "9fea57fc",
   "metadata": {
    "papermill": {
     "duration": 0.004811,
     "end_time": "2024-06-29T12:23:54.094794",
     "exception": false,
     "start_time": "2024-06-29T12:23:54.089983",
     "status": "completed"
    },
    "tags": []
   },
   "source": [
    "That query wasn't too complicated, and it got the data you want. But these **SELECT** queries don't organizing data in a way that answers the most interesting questions. For that, we'll need the **GROUP BY** command. \n",
    "\n",
    "If you know how to use [`groupby()`](https://pandas.pydata.org/pandas-docs/stable/reference/api/pandas.DataFrame.groupby.html) in pandas, this is similar. But BigQuery works quickly with far larger datasets.\n",
    "\n",
    "Fortunately, that's next."
   ]
  },
  {
   "cell_type": "markdown",
   "id": "fa225040",
   "metadata": {
    "papermill": {
     "duration": 0.004763,
     "end_time": "2024-06-29T12:23:54.104531",
     "exception": false,
     "start_time": "2024-06-29T12:23:54.099768",
     "status": "completed"
    },
    "tags": []
   },
   "source": [
    "# Keep going\n",
    "**[GROUP BY](https://www.kaggle.com/dansbecker/group-by-having-count)** clauses and their extensions give you the power to pull interesting statistics out of data, rather than receiving it in just its raw format."
   ]
  },
  {
   "cell_type": "markdown",
   "id": "1fb1de00",
   "metadata": {
    "papermill": {
     "duration": 0.004719,
     "end_time": "2024-06-29T12:23:54.114274",
     "exception": false,
     "start_time": "2024-06-29T12:23:54.109555",
     "status": "completed"
    },
    "tags": []
   },
   "source": [
    "---\n",
    "\n",
    "\n",
    "\n",
    "\n",
    "*Have questions or comments? Visit the [course discussion forum](https://www.kaggle.com/learn/intro-to-sql/discussion) to chat with other learners.*"
   ]
  }
 ],
 "metadata": {
  "kaggle": {
   "accelerator": "none",
   "dataSources": [
    {
     "datasetId": 5836,
     "sourceId": 8677,
     "sourceType": "datasetVersion"
    },
    {
     "datasetId": 6057,
     "sourceId": 285982,
     "sourceType": "datasetVersion"
    }
   ],
   "isGpuEnabled": false,
   "isInternetEnabled": false,
   "language": "python",
   "sourceType": "notebook"
  },
  "kernelspec": {
   "display_name": "Python 3",
   "language": "python",
   "name": "python3"
  },
  "language_info": {
   "codemirror_mode": {
    "name": "ipython",
    "version": 3
   },
   "file_extension": ".py",
   "mimetype": "text/x-python",
   "name": "python",
   "nbconvert_exporter": "python",
   "pygments_lexer": "ipython3",
   "version": "3.10.13"
  },
  "papermill": {
   "default_parameters": {},
   "duration": 115.452824,
   "end_time": "2024-06-29T12:23:54.839069",
   "environment_variables": {},
   "exception": null,
   "input_path": "__notebook__.ipynb",
   "output_path": "__notebook__.ipynb",
   "parameters": {},
   "start_time": "2024-06-29T12:21:59.386245",
   "version": "2.5.0"
  }
 },
 "nbformat": 4,
 "nbformat_minor": 5
}
